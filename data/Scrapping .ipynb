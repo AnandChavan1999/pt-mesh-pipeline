{
 "cells": [
  {
   "cell_type": "code",
   "execution_count": 1,
   "id": "2c7656fd",
   "metadata": {},
   "outputs": [],
   "source": [
    "import requests\n",
    "from bs4 import BeautifulSoup\n",
    "import pandas as pd"
   ]
  },
  {
   "cell_type": "code",
   "execution_count": 12,
   "id": "89b441f0",
   "metadata": {},
   "outputs": [],
   "source": [
    "class Scraper:\n",
    "    def __init__(self, url, table_columns):\n",
    "        self.url = url\n",
    "        self.table_columns = table_columns\n",
    "    def scrape_data(self):\n",
    "        tender_data = []\n",
    "        df = pd.DataFrame(tender_data, columns=self.table_columns)\n",
    "        page = requests.get(self.url)\n",
    "        soup = BeautifulSoup(page.content, 'html.parser')\n",
    "        tenders = soup.find_all('table',{'id': 'activeTenders'})\n",
    "        index = 0\n",
    "        for row in tenders[0].find_all('tr'):\n",
    "            col = 0\n",
    "            column = row.find_all('td')\n",
    "            for c in column:\n",
    "                df.loc[index, self.table_columns[col]] = c.get_text()\n",
    "                col = col + 1\n",
    "            index = index + 1\n",
    "        df.to_csv('output.csv', index=False)\n",
    "if __name__ == '__main__':\n",
    "    url = 'https://etenders.gov.in/eprocure/app'\n",
    "    table_columns = ['Tender Title', 'Reference No', 'Closing Date', 'Bid Opening Date']\n",
    "    df = Scraper(url, table_columns)\n",
    "    df.scrape_data()"
   ]
  },
  {
   "cell_type": "code",
   "execution_count": null,
   "id": "9fb98183",
   "metadata": {},
   "outputs": [],
   "source": []
  }
 ],
 "metadata": {
  "kernelspec": {
   "display_name": "Python 3 (ipykernel)",
   "language": "python",
   "name": "python3"
  },
  "language_info": {
   "codemirror_mode": {
    "name": "ipython",
    "version": 3
   },
   "file_extension": ".py",
   "mimetype": "text/x-python",
   "name": "python",
   "nbconvert_exporter": "python",
   "pygments_lexer": "ipython3",
   "version": "3.9.12"
  }
 },
 "nbformat": 4,
 "nbformat_minor": 5
}
